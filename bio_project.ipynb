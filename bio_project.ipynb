{
 "cells": [
  {
   "cell_type": "code",
   "execution_count": 40,
   "metadata": {},
   "outputs": [],
   "source": [
    "import numpy as np\n",
    "import pandas as pd\n",
    "from sklearn.ensemble import RandomForestClassifier\n",
    "from sklearn.naive_bayes import GaussianNB\n",
    "from sklearn.model_selection import cross_val_score\n",
    "from sklearn.preprocessing import normalize"
   ]
  },
  {
   "cell_type": "code",
   "execution_count": 24,
   "metadata": {},
   "outputs": [],
   "source": [
    "def count_words(sequence, w):\n",
    "    count_dict = {}\n",
    "    for i in range(0, len(sequence) - w + 1):\n",
    "        word = sequence[i:i+w]\n",
    "        if word not in count_dict:\n",
    "            count_dict[word] = 1\n",
    "        else:\n",
    "            count_dict[word] += 1\n",
    "    return count_dict\n",
    "\n",
    "def index_fasta_file(fasta_filename, w = 4):\n",
    "    word_dict = {} # Stores each of the protein data points\n",
    "    sequence = \"\" # Start building the sequence, since it can be spread across multiple lines\n",
    "    row = 0 # Keep track of which sequence we have processed\n",
    "    with open(fasta_filename, 'r') as fasta_file:\n",
    "        for line in fasta_file: # Loop through the file line-by-line\n",
    "            if line[0] == \">\": # Every time it hits a label, we are done processing the last sequence\n",
    "                if len(sequence) >= w:\n",
    "                    # Count the words using the function above\n",
    "                    count_dict = count_words(sequence, w)\n",
    "                    # For each word, we want to add it to our matrix that we are building\n",
    "                    for word, count in count_dict.items():\n",
    "                        # If we've seen the word before, append to the existing count list\n",
    "                        if word in word_dict:\n",
    "                            word_dict[word] = word_dict[word].append(\n",
    "                                                              pd.Series([count],index=[row])\n",
    "                                                                    )\n",
    "                        # If it's a new word, start a counting list\n",
    "                        else:\n",
    "                            word_dict[word] = pd.Series([count],index=[row])\n",
    "                    row += 1\n",
    "                sequence = \"\"\n",
    "            else: # We have a protein sequence, not a label\n",
    "                sequence += line.strip() # Build the full sequence string, removing trailing whitespace with strip() \n",
    "    return pd.DataFrame(word_dict).fillna(0) # Return the counts as a DataFrame"
   ]
  },
  {
   "cell_type": "code",
   "execution_count": 25,
   "metadata": {},
   "outputs": [],
   "source": [
    "word_size=1\n",
    "mouse_ngram = index_fasta_file(\"data/mouse.fasta\" , word_size)\n",
    "rat_ngram = index_fasta_file(\"data/rat.fasta\" , word_size)"
   ]
  },
  {
   "cell_type": "code",
   "execution_count": 26,
   "metadata": {},
   "outputs": [],
   "source": [
    "word_size=2\n",
    "mouse_ngram2 = index_fasta_file(\"data/mouse.fasta\" , word_size)\n",
    "rat_ngram2 = index_fasta_file(\"data/rat.fasta\" , word_size)"
   ]
  },
  {
   "cell_type": "code",
   "execution_count": 27,
   "metadata": {},
   "outputs": [],
   "source": [
    "mouse_ngram.to_csv(\"1.csv\", index= False)\n",
    "rat_ngram.to_csv(\"2.csv\", index= False)\n",
    "mouse_ngram2.to_csv(\"3.csv\", index= False)\n",
    "rat_ngram2.to_csv(\"4.csv\", index= False)"
   ]
  },
  {
   "cell_type": "code",
   "execution_count": 34,
   "metadata": {},
   "outputs": [],
   "source": [
    "means_mouse=mouse_ngram.mean(axis=0)\n",
    "means_rat=rat_ngram.mean(axis=0)\n",
    "means_mouse2=mouse_ngram2.mean(axis=0)\n",
    "means_rat2=rat_ngram2.mean(axis=0)\n",
    "mouse_ngram[mouse_ngram<means_mouse]=0\n",
    "mouse_ngram[mouse_ngram>=means_mouse]=1\n",
    "mouse_ngram2[mouse_ngram2<means_mouse2]=0\n",
    "mouse_ngram2[mouse_ngram2>=means_mouse2]=1\n",
    "rat_ngram[mouse_ngram<means_rat]=0\n",
    "rat_ngram[mouse_ngram>=means_rat]=1\n",
    "rat_ngram2[mouse_ngram2<means_rat2]=0\n",
    "rat_ngram2[mouse_ngram2>=means_rat2]=1\n",
    "labels1 = [0]*mouse_ngram.shape[0] + [1]*rat_ngram.shape[0]\n",
    "labels2 = [0]*mouse_ngram2.shape[0] + [1]*rat_ngram2.shape[0]\n",
    "data1 = mouse_ngram.append(rat_ngram).fillna(0)\n",
    "data2=mouse_ngram2.append(rat_ngram2).fillna(0)\n",
    "data1['labels']=pd.Series(labels1, index=data1.index)\n",
    "data2['labels']=pd.Series(labels2, index=data2.index)\n",
    "data1.to_csv(\"data1_2condition.csv\", index= False)\n",
    "data2.to_csv(\"data2_2condition.csv\", index= False)"
   ]
  },
  {
   "cell_type": "code",
   "execution_count": 37,
   "metadata": {},
   "outputs": [],
   "source": [
    "mouse_ngram=pd.read_csv(\"1.csv\")\n",
    "rat_ngram=pd.read_csv(\"2.csv\")\n",
    "mouse_ngram2=pd.read_csv(\"3.csv\")\n",
    "rat_ngram2=pd.read_csv(\"4.csv\")\n",
    "means_mouse=mouse_ngram.mean(axis=0)\n",
    "means_rat=rat_ngram.mean(axis=0)\n",
    "means_mouse2=mouse_ngram2.mean(axis=0)\n",
    "means_rat2=rat_ngram2.mean(axis=0)\n",
    "\n",
    "mouse_ngram[mouse_ngram<means_mouse/2]=0\n",
    "mouse_ngram[(mouse_ngram>means_mouse/2)&(mouse_ngram<means_mouse)]=1\n",
    "mouse_ngram[(mouse_ngram>=means_mouse)&(mouse_ngram<3*means_mouse/2)]=2\n",
    "mouse_ngram[mouse_ngram>3*means_mouse/2]=3\n",
    "rat_ngram[rat_ngram<means_rat/2]=0\n",
    "rat_ngram[(rat_ngram>means_rat/2)&(rat_ngram<means_rat)]=1\n",
    "rat_ngram[(rat_ngram>=means_rat)&(rat_ngram<3*means_rat/2)]=2\n",
    "rat_ngram[rat_ngram>3*means_rat/2]=3\n",
    "\n",
    "mouse_ngram2[mouse_ngram2<means_mouse2/2]=0\n",
    "mouse_ngram2[(mouse_ngram2>means_mouse2/2)&(mouse_ngram2<means_mouse2)]=1\n",
    "mouse_ngram2[(mouse_ngram2>=means_mouse2)&(mouse_ngram2<3*means_mouse2/2)]=2\n",
    "mouse_ngram2[mouse_ngram2>3*means_mouse2/2]=3\n",
    "rat_ngram2[rat_ngram2<means_rat2/2]=0\n",
    "rat_ngram2[(rat_ngram2>means_rat2/2)&(rat_ngram2<means_rat2)]=1\n",
    "rat_ngram2[(rat_ngram2>=means_rat2)&(rat_ngram2<3*means_rat2/2)]=2\n",
    "rat_ngram2[rat_ngram2>3*means_rat2/2]=3\n",
    "\n",
    "labels1 = [0]*mouse_ngram.shape[0] + [1]*rat_ngram.shape[0]\n",
    "labels2 = [0]*mouse_ngram2.shape[0] + [1]*rat_ngram2.shape[0]\n",
    "data1 = mouse_ngram.append(rat_ngram).fillna(0)\n",
    "data2=mouse_ngram2.append(rat_ngram2).fillna(0)\n",
    "data1['labels']=pd.Series(labels1, index=data1.index)\n",
    "data2['labels']=pd.Series(labels2, index=data2.index)\n",
    "data1.to_csv(\"data1_4condition.csv\", index= False)\n",
    "data2.to_csv(\"data2_4condition.csv\", index= False)\n",
    "\n"
   ]
  },
  {
   "cell_type": "code",
   "execution_count": 38,
   "metadata": {},
   "outputs": [],
   "source": [
    "mouse_ngram=pd.read_csv(\"1.csv\")\n",
    "rat_ngram=pd.read_csv(\"2.csv\")\n",
    "mouse_ngram2=pd.read_csv(\"3.csv\")\n",
    "rat_ngram2=pd.read_csv(\"4.csv\")\n",
    "labels1 = [0]*mouse_ngram.shape[0] + [1]*rat_ngram.shape[0]\n",
    "labels2 = [0]*mouse_ngram2.shape[0] + [1]*rat_ngram2.shape[0]\n",
    "data1 = mouse_ngram.append(rat_ngram).fillna(0)\n",
    "data2=mouse_ngram2.append(rat_ngram2).fillna(0)\n",
    "data1['labels']=pd.Series(labels1, index=data1.index)\n",
    "data2['labels']=pd.Series(labels2, index=data2.index)\n",
    "data1.to_csv(\"data1_normal.csv\", index= False)\n",
    "data2.to_csv(\"data2_normal.csv\", index= False)"
   ]
  },
  {
   "cell_type": "code",
   "execution_count": 48,
   "metadata": {},
   "outputs": [],
   "source": [
    "data1=pd.read_csv(\"data1_normal.csv\")\n",
    "data2=pd.read_csv(\"data2_normal.csv\")\n",
    "data1=data1.sample(frac=1).reset_index(drop=True)\n",
    "data2=data2.sample(frac=1).reset_index(drop=True)\n",
    "train1=normalize(data1.iloc[:,0:-1], axis=1)\n",
    "target1=data1['labels']\n",
    "train2=normalize(data2.iloc[:,0:-1], axis=1)\n",
    "target2=data2['labels']\n",
    "\n",
    "\n",
    "dataB1=pd.read_csv(\"data1_2condition.csv\")\n",
    "dataB2=pd.read_csv(\"data2_2condition.csv\")\n",
    "dataB1=dataB1.sample(frac=1).reset_index(drop=True)\n",
    "dataB2=dataB2.sample(frac=1).reset_index(drop=True)\n",
    "trainB1=dataB1.iloc[:,0:-1]\n",
    "targetB1=dataB1['labels']\n",
    "trainB2=dataB2.iloc[:,0:-1]\n",
    "targetB2=dataB2['labels']\n"
   ]
  },
  {
   "cell_type": "code",
   "execution_count": 59,
   "metadata": {},
   "outputs": [],
   "source": [
    "NB=GaussianNB()\n",
    "RF=RandomForestClassifier()\n",
    "rf_scores_normal1=cross_val_score(RF, train1, target1, cv=10)\n",
    "rf_scores_normal2=cross_val_score(RF, train2, target2, cv=10)\n",
    "rf_scores_condition1=cross_val_score(RF, trainB1, targetB1, cv=10)\n",
    "rf_scores_condition2=cross_val_score(RF, trainB2, targetB2, cv=10)\n",
    "nb_scores_normal1=cross_val_score(NB, train1, target1, cv=10)\n",
    "nb_scores_normal2=cross_val_score(NB, train2, target2, cv=10)\n",
    "nb_scores_condition1=cross_val_score(NB, trainB1, targetB1, cv=10)\n",
    "nb_scores_condition2=cross_val_score(NB, trainB2, targetB2, cv=10)"
   ]
  },
  {
   "cell_type": "code",
   "execution_count": 115,
   "metadata": {},
   "outputs": [
    {
     "data": {
      "image/png": "[encoded data removed]",
      "text/plain": [
       "<matplotlib.figure.Figure at 0x1b200ae8898>"
      ]
     },
     "metadata": {},
     "output_type": "display_data"
    }
   ],
   "source": [
    "\n",
    "import matplotlib.pyplot as plt\n",
    "\n",
    "N = 10\n",
    "ind = np.arange(N)  # the x locations for the groups\n",
    "width = 0.20       # the width of the bars\n",
    "\n",
    "fig = plt.figure()\n",
    "ax = fig.add_subplot(111)\n",
    "\n",
    "yvals = [4, 9, 2]\n",
    "rects1 = ax.bar(ind,rf_scores_normal1*100, width, color='r')\n",
    "zvals = [1,2,3]\n",
    "rects2 = ax.bar(ind+width, rf_scores_normal2*100, width, color='g')\n",
    "kvals = [11,12,13]\n",
    "rects3 = ax.bar(ind+width*2, rf_scores_condition1*100, width, color='b')\n",
    "kvals = [11,12,13]\n",
    "rects4 = ax.bar(ind+width*3, rf_scores_condition2*100, width, color='y')\n",
    "\n",
    "ax.set_ylabel('Accuracies')\n",
    "ax.set_xticks(ind+width*2)\n",
    "ax.set_xticklabels( range(1,11) )\n",
    "ax.legend( (rects1[0], rects2[0], rects3[0],rects4[0]), ('Random Forest normal data 1-gram','Random Forest normal data 2-gram','Random Forest binary data 1-gram', 'Random Forest binary data 2-gram'),bbox_to_anchor=(1.02, 1) )\n",
    "\n",
    "fig.set_size_inches(15, 8, forward=True)\n",
    "fig.savefig('to.png')\n",
    "\n",
    "plt.show()\n",
    "\n",
    "\n",
    "\n",
    "\n"
   ]
  },
  {
   "cell_type": "code",
   "execution_count": 114,
   "metadata": {},
   "outputs": [
    {
     "data": {
      "image/png": "[encoded data removed]",
      "text/plain": [
       "<matplotlib.figure.Figure at 0x1b201095588>"
      ]
     },
     "metadata": {},
     "output_type": "display_data"
    }
   ],
   "source": [
    "\n",
    "\n",
    "N = 10\n",
    "ind = np.arange(N)  # the x locations for the groups\n",
    "width = 0.20       # the width of the bars\n",
    "\n",
    "fig = plt.figure()\n",
    "ax = fig.add_subplot(111)\n",
    "\n",
    "yvals = [4, 9, 2]\n",
    "rects1 = ax.bar(ind,nb_scores_normal1*100, width, color='r')\n",
    "zvals = [1,2,3]\n",
    "rects2 = ax.bar(ind+width, nb_scores_normal2*100, width, color='g')\n",
    "kvals = [11,12,13]\n",
    "rects3 = ax.bar(ind+width*2, nb_scores_condition1*100, width, color='b')\n",
    "kvals = [11,12,13]\n",
    "rects4 = ax.bar(ind+width*3, nb_scores_condition2*100, width, color='y')\n",
    "\n",
    "ax.set_ylabel('Accurisies')\n",
    "ax.set_xticks(ind+width*2)\n",
    "ax.set_xticklabels( range(1,11) )\n",
    "ax.legend( (rects1[0], rects2[0], rects3[0],rects4[0]), ('Naive Bayes normal data 1-gram','Naive Bayes normal data 2-gram','Naive Bayes binary data 1-gram', 'Naive Bayes binary data 2-gram'),bbox_to_anchor=(1.02, 1) )\n",
    "\n",
    "fig.set_size_inches(15, 8, forward=True)\n",
    "fig.savefig('to.png')\n",
    "\n",
    "plt.show()\n",
    "\n",
    "\n",
    "\n",
    "\n"
   ]
  },
  {
   "cell_type": "code",
   "execution_count": 116,
   "metadata": {},
   "outputs": [
    {
     "name": "stdout",
     "output_type": "stream",
     "text": [
      "0.0142867801207\n",
      "3.48767636681e-14\n",
      "9.82664858851e-15\n",
      "1.3174869096e-09\n"
     ]
    }
   ],
   "source": [
    "from scipy import stats\n",
    "t1,p1=stats.ttest_rel(rf_scores_normal1,rf_scores_normal2)\n",
    "t2,p2=stats.ttest_rel(rf_scores_normal1,rf_scores_condition1)\n",
    "t3,p3=stats.ttest_rel(rf_scores_normal2,rf_scores_condition2)\n",
    "t4,p4=stats.ttest_rel(rf_scores_condition1,rf_scores_condition2)\n",
    "\n",
    "\n",
    "print(p1)\n",
    "print(p2)\n",
    "print(p3)\n",
    "print(p4)"
   ]
  },
  {
   "cell_type": "code",
   "execution_count": 117,
   "metadata": {},
   "outputs": [
    {
     "name": "stdout",
     "output_type": "stream",
     "text": [
      "1.49478692575e-05\n",
      "4.15977891857e-13\n",
      "1.26383295309e-19\n",
      "1.30741009627e-09\n"
     ]
    }
   ],
   "source": [
    "t1,p1=stats.ttest_rel(nb_scores_normal1,nb_scores_normal2)\n",
    "t2,p2=stats.ttest_rel(nb_scores_normal1,nb_scores_condition1)\n",
    "t3,p3=stats.ttest_rel(nb_scores_normal2,nb_scores_condition2)\n",
    "t4,p4=stats.ttest_rel(nb_scores_condition1,nb_scores_condition2)\n",
    "\n",
    "\n",
    "print(p1)\n",
    "print(p2)\n",
    "print(p3)\n",
    "print(p4)"
   ]
  },
  {
   "cell_type": "code",
   "execution_count": null,
   "metadata": {},
   "outputs": [],
   "source": []
  }
 ],
 "metadata": {
  "kernelspec": {
   "display_name": "Python 3",
   "language": "python",
   "name": "python3"
  },
  "language_info": {
   "codemirror_mode": {
    "name": "ipython",
    "version": 3
   },
   "file_extension": ".py",
   "mimetype": "text/x-python",
   "name": "python",
   "nbconvert_exporter": "python",
   "pygments_lexer": "ipython3",
   "version": "3.6.2"
  }
 },
 "nbformat": 4,
 "nbformat_minor": 2
}
